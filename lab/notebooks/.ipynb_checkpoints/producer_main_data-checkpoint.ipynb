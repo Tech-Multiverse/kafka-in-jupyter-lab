{
 "cells": [
  {
   "cell_type": "code",
   "execution_count": null,
   "id": "234a0942-393a-4c0a-b741-d218eec0de05",
   "metadata": {},
   "outputs": [],
   "source": [
    "import json\n",
    "import time\n",
    "from confluent_kafka import Producer\n",
    "\n",
    "# Kafka producer configuration\n",
    "producer_conf = {\n",
    "    \"bootstrap.servers\": \"PLAINTEXT://kafka:9092\",  # Replace with your Kafka broker address\n",
    "    \"client.id\": \"producer\",\n",
    "}\n",
    "\n",
    "# Create Kafka producer\n",
    "producer = Producer(producer_conf)\n",
    "\n",
    "# Define the topic to produce to\n",
    "topic = \"main_topic\"\n",
    "\n",
    "# Produce a stream of sample JSON messages with a time delay\n",
    "for i in range(10):  # Change the number based on your requirements\n",
    "    message_dict = {\"main\": f\"value_{i}\", \"foo\": f\"bar_{i}\"}\n",
    "    message_json = json.dumps(message_dict)\n",
    "\n",
    "    producer.produce(topic, value=message_json)\n",
    "\n",
    "    print(f\"Produced message: {message_json}\")\n",
    "\n",
    "    # Add a time delay of 1 second between messages\n",
    "    time.sleep(1)\n",
    "\n",
    "# Flush the producer to ensure all messages are sent\n",
    "producer.flush()"
   ]
  },
  {
   "cell_type": "code",
   "execution_count": null,
   "id": "41c658da-ffac-4086-8c98-6a56aaf8a9e5",
   "metadata": {},
   "outputs": [],
   "source": []
  }
 ],
 "metadata": {
  "kernelspec": {
   "display_name": "Python 3 (ipykernel)",
   "language": "python",
   "name": "python3"
  },
  "language_info": {
   "codemirror_mode": {
    "name": "ipython",
    "version": 3
   },
   "file_extension": ".py",
   "mimetype": "text/x-python",
   "name": "python",
   "nbconvert_exporter": "python",
   "pygments_lexer": "ipython3",
   "version": "3.11.6"
  }
 },
 "nbformat": 4,
 "nbformat_minor": 5
}
