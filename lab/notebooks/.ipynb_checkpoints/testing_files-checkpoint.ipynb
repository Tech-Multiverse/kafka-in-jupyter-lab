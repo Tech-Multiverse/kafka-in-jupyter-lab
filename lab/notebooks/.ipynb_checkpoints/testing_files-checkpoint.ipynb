{
 "cells": [
  {
   "cell_type": "code",
   "execution_count": 1,
   "id": "c5b74875-fd47-4ad7-9403-7e1317ce7a16",
   "metadata": {},
   "outputs": [
    {
     "name": "stdout",
     "output_type": "stream",
     "text": [
      "hi\n"
     ]
    }
   ],
   "source": [
    "print('hi')"
   ]
  },
  {
   "cell_type": "code",
   "execution_count": 1,
   "id": "9e45ed4a-78da-4c9d-90fe-d968a419196a",
   "metadata": {},
   "outputs": [
    {
     "name": "stdout",
     "output_type": "stream",
     "text": [
      "hello jupyter!\n"
     ]
    }
   ],
   "source": [
    "print('hello jupyter!')"
   ]
  },
  {
   "cell_type": "code",
   "execution_count": 1,
   "id": "d18fbf05-135a-4977-9bdd-cd12498a078f",
   "metadata": {},
   "outputs": [
    {
     "name": "stdout",
     "output_type": "stream",
     "text": [
      "test edit 3\n"
     ]
    }
   ],
   "source": [
    "print('test edit 3')"
   ]
  },
  {
   "cell_type": "code",
   "execution_count": null,
   "id": "0ee42027-02f1-4aa3-82fe-f57d6c44475e",
   "metadata": {},
   "outputs": [],
   "source": []
  }
 ],
 "metadata": {
  "kernelspec": {
   "display_name": "Python 3 (ipykernel)",
   "language": "python",
   "name": "python3"
  },
  "language_info": {
   "codemirror_mode": {
    "name": "ipython",
    "version": 3
   },
   "file_extension": ".py",
   "mimetype": "text/x-python",
   "name": "python",
   "nbconvert_exporter": "python",
   "pygments_lexer": "ipython3",
   "version": "3.11.6"
  }
 },
 "nbformat": 4,
 "nbformat_minor": 5
}
