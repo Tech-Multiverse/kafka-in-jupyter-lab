{
 "cells": [
  {
   "cell_type": "code",
   "execution_count": null,
   "id": "9928bb23-a9bd-4aea-8e2c-d9050f923c61",
   "metadata": {},
   "outputs": [],
   "source": [
    "!pip install confluent_kafka"
   ]
  },
  {
   "cell_type": "code",
   "execution_count": null,
   "id": "05064517-1a12-40fd-961d-724de5e71c70",
   "metadata": {},
   "outputs": [],
   "source": [
    "import json\n",
    "import sys\n",
    "import time\n",
    "import socket\n",
    "from confluent_kafka import Consumer, KafkaError\n",
    "\n",
    "def msg_process(msg):\n",
    "    # Print the current time and the message.\n",
    "    time_start = time.strftime(\"%Y-%m-%d %H:%M:%S\")\n",
    "    val = msg.value()\n",
    "    dval = json.loads(val)\n",
    "    print(time_start, dval)\n",
    "\n",
    "# Kafka consumer configuration\n",
    "consumer_conf = {\n",
    "    'bootstrap.servers': 'PLAINTEXT://kafka:9092',  # Replace with your Kafka broker address\n",
    "    'group.id': socket.gethostname(),\n",
    "    'auto.offset.reset': 'earliest'\n",
    "}\n",
    "\n",
    "# Create Kafka consumer\n",
    "consumer = Consumer(consumer_conf)\n",
    "\n",
    "# Subscribe to the topic\n",
    "topic = \"other_topic\"  # Replace with your Kafka topic\n",
    "consumer.subscribe([topic])\n",
    "\n",
    "# Consume messages\n",
    "try:\n",
    "    while True:\n",
    "        msg = consumer.poll(1.0)\n",
    "        if msg is None:\n",
    "            continue\n",
    "\n",
    "        if msg.error():\n",
    "            if msg.error().code() == KafkaError._PARTITION_EOF:\n",
    "                # End of partition event\n",
    "                sys.stderr.write('%% %s [%d] reached end at offset %d\\n' %\n",
    "                                 (msg.topic(), msg.partition(), msg.offset()))\n",
    "            elif msg.error().code() == KafkaError.UNKNOWN_TOPIC_OR_PART:\n",
    "                sys.stderr.write('Topic unknown, creating %s topic\\n' %\n",
    "                                 (topic))\n",
    "            elif msg.error():\n",
    "                raise KafkaException(msg.error())\n",
    "        else:\n",
    "            msg_process(msg)\n",
    "\n",
    "except KeyboardInterrupt:\n",
    "    pass\n",
    "\n",
    "finally:\n",
    "    # Close down consumer to commit final offsets.\n",
    "    consumer.close()\n"
   ]
  },
  {
   "cell_type": "code",
   "execution_count": null,
   "id": "8495e13f-ee0e-462d-a1cf-1d5137b7491c",
   "metadata": {},
   "outputs": [],
   "source": []
  }
 ],
 "metadata": {
  "kernelspec": {
   "display_name": "Python 3 (ipykernel)",
   "language": "python",
   "name": "python3"
  },
  "language_info": {
   "codemirror_mode": {
    "name": "ipython",
    "version": 3
   },
   "file_extension": ".py",
   "mimetype": "text/x-python",
   "name": "python",
   "nbconvert_exporter": "python",
   "pygments_lexer": "ipython3",
   "version": "3.11.6"
  }
 },
 "nbformat": 4,
 "nbformat_minor": 5
}
