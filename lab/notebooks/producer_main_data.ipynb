{
 "cells": [
  {
   "cell_type": "code",
   "execution_count": 1,
   "id": "234a0942-393a-4c0a-b741-d218eec0de05",
   "metadata": {},
   "outputs": [
    {
     "name": "stdout",
     "output_type": "stream",
     "text": [
      "Produced message: {\"main\": \"value_0\", \"foo\": \"bar_0\"}\n",
      "Produced message: {\"main\": \"value_1\", \"foo\": \"bar_1\"}\n",
      "Produced message: {\"main\": \"value_2\", \"foo\": \"bar_2\"}\n",
      "Produced message: {\"main\": \"value_3\", \"foo\": \"bar_3\"}\n",
      "Produced message: {\"main\": \"value_4\", \"foo\": \"bar_4\"}\n",
      "Produced message: {\"main\": \"value_5\", \"foo\": \"bar_5\"}\n",
      "Produced message: {\"main\": \"value_6\", \"foo\": \"bar_6\"}\n",
      "Produced message: {\"main\": \"value_7\", \"foo\": \"bar_7\"}\n",
      "Produced message: {\"main\": \"value_8\", \"foo\": \"bar_8\"}\n",
      "Produced message: {\"main\": \"value_9\", \"foo\": \"bar_9\"}\n"
     ]
    },
    {
     "data": {
      "text/plain": [
       "0"
      ]
     },
     "execution_count": 1,
     "metadata": {},
     "output_type": "execute_result"
    }
   ],
   "source": [
    "import json\n",
    "import time\n",
    "from confluent_kafka import Producer\n",
    "\n",
    "# Kafka producer configuration\n",
    "producer_conf = {\n",
    "    \"bootstrap.servers\": \"PLAINTEXT://kafka:9092\",  # Replace with your Kafka broker address\n",
    "    \"client.id\": \"producer\",\n",
    "}\n",
    "\n",
    "# Create Kafka producer\n",
    "producer = Producer(producer_conf)\n",
    "\n",
    "# Define the topic to produce to\n",
    "topic = \"main_topic\"\n",
    "\n",
    "# Produce a stream of sample JSON messages with a time delay\n",
    "for i in range(10):  # Change the number based on your requirements\n",
    "    message_dict = {\"main\": f\"value_{i}\", \"foo\": f\"bar_{i}\"}\n",
    "    message_json = json.dumps(message_dict)\n",
    "\n",
    "    producer.produce(topic, value=message_json)\n",
    "\n",
    "    print(f\"Produced message: {message_json}\")\n",
    "\n",
    "    # Add a time delay of 1 second between messages\n",
    "    time.sleep(1)\n",
    "\n",
    "# Flush the producer to ensure all messages are sent\n",
    "producer.flush()"
   ]
  },
  {
   "cell_type": "code",
   "execution_count": null,
   "id": "22252c86-d186-4c05-b355-42f3f2c5390e",
   "metadata": {},
   "outputs": [],
   "source": []
  }
 ],
 "metadata": {
  "kernelspec": {
   "display_name": "Python 3 (ipykernel)",
   "language": "python",
   "name": "python3"
  },
  "language_info": {
   "codemirror_mode": {
    "name": "ipython",
    "version": 3
   },
   "file_extension": ".py",
   "mimetype": "text/x-python",
   "name": "python",
   "nbconvert_exporter": "python",
   "pygments_lexer": "ipython3",
   "version": "3.11.6"
  }
 },
 "nbformat": 4,
 "nbformat_minor": 5
}
